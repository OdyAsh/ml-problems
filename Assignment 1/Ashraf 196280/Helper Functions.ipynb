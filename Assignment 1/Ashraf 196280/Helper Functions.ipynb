{
 "cells": [
  {
   "cell_type": "markdown",
   "id": "9543bf08",
   "metadata": {},
   "source": [
    "# Dropping Columns in a Dataframe"
   ]
  },
  {
   "cell_type": "code",
   "execution_count": null,
   "id": "c659a2e8",
   "metadata": {},
   "outputs": [],
   "source": [
    "def dropNanValues(df, threshold, inplace=False):\n",
    "    \"\"\"\n",
    "    takes dataframe \"df\", and returns another df with removed columns \n",
    "    that have null values more than (or equal) \"threshold\" number of nulls.\n",
    "    \"\"\"\n",
    "    nullsSeries = df.isnull().sum()\n",
    "    thresholdColsList = nullsSeries[nullsSeries >= threshold].index.tolist()\n",
    "    return df.drop(columns=thresholdColsList, inplace=inplace)"
   ]
  },
  {
   "cell_type": "code",
   "execution_count": null,
   "id": "867d69f8",
   "metadata": {},
   "outputs": [],
   "source": [
    "def dropNanPercentages(df, threshold, inplace=False):\n",
    "    \"\"\"\n",
    "    takes dataframe \"df\", and returns another df with removed columns \n",
    "    that have null values more than (or equal) \"threshold\" percentage of \n",
    "    the df's total rows.\n",
    "    \"\"\"\n",
    "    df2 = df.loc[:, df.isnull().sum() < threshold*df.shape[0]]\n",
    "    if (inplace):\n",
    "        df = df2\n",
    "    else:\n",
    "        return df2"
   ]
  },
  {
   "cell_type": "markdown",
   "id": "83983bff",
   "metadata": {},
   "source": [
    "# Seeing the columns in multiple datasets"
   ]
  },
  {
   "cell_type": "code",
   "execution_count": null,
   "id": "cdbe3746",
   "metadata": {},
   "outputs": [],
   "source": [
    "def datasetsCols(dfList, datasetNames, pad=\"\"):\n",
    "    \"\"\"\n",
    "    Takes dataframes and returns a dataframe (df) with each column having a df's\n",
    "    column names. The \"pad\" is to make sure all lists of columns have \n",
    "    the same length padded out with \"pad\"\n",
    "    Example\n",
    "    pad = \"XX\", datasetNames = [\"cars\", \"planes\"]\n",
    "    dfList = [carsDF, planesDF]\n",
    "    returned data frame:\n",
    "            cars            planes\n",
    "    0       numOfWheels     numOfWings\n",
    "    1       manufacturer    manufacturer\n",
    "    2       make            XX\n",
    "    \"\"\"\n",
    "    cols = []\n",
    "    maxArrayLen = 0\n",
    "    for i, df in enumerate(dfList):\n",
    "        cols.append(df.columns.tolist())\n",
    "        maxArrayLen = max(maxArrayLen, len(cols[i]))\n",
    "    \n",
    "    dictCsvs = {}\n",
    "    for i, df in enumerate(dfList):\n",
    "        cols[i] += [pad] * (maxArrayLen - len(cols[i])) #padding the lists to make them have equal lengths \n",
    "        dictCsvs.update({datasetNames[i] : cols[i]})\n",
    "\n",
    "    return pd.DataFrame(dictCsvs)"
   ]
  },
  {
   "cell_type": "markdown",
   "id": "8aa00653",
   "metadata": {},
   "source": [
    "# Seeing the nulls of each Dataset's Columns"
   ]
  },
  {
   "cell_type": "code",
   "execution_count": null,
   "id": "11204f89",
   "metadata": {},
   "outputs": [],
   "source": [
    "def datasetsNulls(dfList, datasetNames, nullCol=\"nulls_\", pad=\"\"):\n",
    "    \"\"\"\n",
    "    Use this when you want to display a column of column names,\n",
    "    then a column of the null values, and repeat that for each dataset.\n",
    "    Returns a dataframe\n",
    "    \"\"\"\n",
    "    cols = []\n",
    "    nulls = []\n",
    "    maxArrayLen = 0\n",
    "    for i, df in enumerate(dfList):\n",
    "        cols.append(df.columns.tolist())\n",
    "        nulls.append(df.isnull().sum().tolist())\n",
    "        maxArrayLen = max(maxArrayLen, len(cols[i]))\n",
    "    \n",
    "    dictCsvs = {}\n",
    "    for i, df in enumerate(dfList):\n",
    "        cols[i] += [pad] * (maxArrayLen - len(cols[i])) #padding the lists to make them have equal lengths \n",
    "        nulls[i] += [None] *  (maxArrayLen - len(nulls[i]))\n",
    "        dictCsvs[datasetNames[i]] = cols[i]\n",
    "        dictCsvs[nullCol + str(i+1)] = nulls[i]\n",
    "    \n",
    "    return pd.DataFrame(dictCsvs)"
   ]
  },
  {
   "cell_type": "code",
   "execution_count": null,
   "id": "c69fed61",
   "metadata": {},
   "outputs": [],
   "source": [
    "def datasetsNullsSameIndex(datasetsNames, *args):\n",
    "    \"\"\"\n",
    "    Use this when multiple datasets have a lot of columns\n",
    "    with the same names.\n",
    "    Returns a dataframe with the index value being the \n",
    "    columns of all datasets\n",
    "    \"\"\"\n",
    "    dic = {}\n",
    "    for i, df in enumerate(args):\n",
    "        dic[datasetsNames[i]] = df.isnull().sum()\n",
    "    return pd.DataFrame(dic)"
   ]
  }
 ],
 "metadata": {
  "kernelspec": {
   "display_name": "Python 3 (ipykernel)",
   "language": "python",
   "name": "python3"
  },
  "language_info": {
   "codemirror_mode": {
    "name": "ipython",
    "version": 3
   },
   "file_extension": ".py",
   "mimetype": "text/x-python",
   "name": "python",
   "nbconvert_exporter": "python",
   "pygments_lexer": "ipython3",
   "version": "3.9.7"
  }
 },
 "nbformat": 4,
 "nbformat_minor": 5
}
