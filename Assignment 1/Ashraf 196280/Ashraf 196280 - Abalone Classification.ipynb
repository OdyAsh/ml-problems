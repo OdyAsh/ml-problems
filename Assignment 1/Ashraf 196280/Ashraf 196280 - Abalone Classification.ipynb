{
 "cells": [
  {
   "cell_type": "markdown",
   "metadata": {},
   "source": [
    "# Overview"
   ]
  },
  {
   "cell_type": "markdown",
   "metadata": {},
   "source": [
    "<img src=\"machine-learning-life-cycle.png\" width=350></img>\n",
    "<br> [source](https://www.javatpoint.com/machine-learning-life-cycle)\n",
    "<br><br> The following should be noted:\n",
    "* There is a step 0: Understanding the problem <br><br>\n",
    "* Since Data wrangling is done during data analysis and model building ([source](https://www.infoq.com/articles/ml-data-processing/#:~:text=data%20wrangling%3A%20preparation%20of%20data%20during%20the%20interactive%20data%20analysis%20and%20model%20building.)), it will not have<br>its own header in the notebook file, rather it will be inter-twined with other steps <br><br>\n",
    "* Model deployment will not be included in this notebook"
   ]
  },
  {
   "cell_type": "markdown",
   "metadata": {},
   "source": [
    "# 0: Understanding The Problem"
   ]
  },
  {
   "cell_type": "markdown",
   "metadata": {},
   "source": [
    "* Note: An \"Abalone\" is a marine snail. \n",
    "<br><br>\n",
    "* Objective: Predict the age of an Abalone by cutting the shell through the cone, staining it, and counting the number of rings through a microscope ([source](https://datahub.io/machine-learning/abalone#:~:text=predicting%20the%20age%20of%20abalone%20from%20physical%20measurements.%20the%20age%20of%20abalone%20is%20determined%20by%20cutting%20the%20shell))\n",
    "<br><br>\n",
    "* Where ML can help: Given the details (features) of an Abalone, it can predict the number of rings, which will give an indication to the age of that Abalone\n",
    "<br>\n",
    "(by adding 1.5 ([source](https://www.openml.org/search?type=data&sort=runs&id=183&status=active#:~:text=%2B1.5%20gives%20the%20age%20in%20years)))"
   ]
  },
  {
   "cell_type": "markdown",
   "metadata": {},
   "source": []
  },
  {
   "cell_type": "markdown",
   "metadata": {},
   "source": [
    "# 1: Gathering The Data"
   ]
  },
  {
   "cell_type": "markdown",
   "metadata": {},
   "source": [
    "Data could be obtained from [datahub.io](https://datahub.io/machine-learning/abalone#data) or [openml.org](https://www.openml.org/search?type=data&sort=runs&id=183&status=active)"
   ]
  },
  {
   "cell_type": "markdown",
   "metadata": {},
   "source": [
    "## Importing Libraries"
   ]
  },
  {
   "cell_type": "code",
   "execution_count": 20,
   "metadata": {},
   "outputs": [],
   "source": [
    "import pandas as pd\n",
    "from scipy.io.arff import loadarff "
   ]
  },
  {
   "cell_type": "markdown",
   "metadata": {},
   "source": [
    "## Importing The Dataset"
   ]
  },
  {
   "cell_type": "code",
   "execution_count": 21,
   "metadata": {},
   "outputs": [],
   "source": [
    "raw_data = loadarff('dataset_187_abalone.arff')"
   ]
  },
  {
   "cell_type": "code",
   "execution_count": 22,
   "metadata": {},
   "outputs": [
    {
     "name": "stdout",
     "output_type": "stream",
     "text": [
      "[(b'M', 0.455, 0.365, 0.095, 0.514 , 0.2245, 0.101 , 0.15 , b'15')\n",
      " (b'M', 0.35 , 0.265, 0.09 , 0.2255, 0.0995, 0.0485, 0.07 , b'7')\n",
      " (b'F', 0.53 , 0.42 , 0.135, 0.677 , 0.2565, 0.1415, 0.21 , b'9') ...\n",
      " (b'M', 0.6  , 0.475, 0.205, 1.176 , 0.5255, 0.2875, 0.308, b'9')\n",
      " (b'F', 0.625, 0.485, 0.15 , 1.0945, 0.531 , 0.261 , 0.296, b'10')\n",
      " (b'M', 0.71 , 0.555, 0.195, 1.9485, 0.9455, 0.3765, 0.495, b'12')]\n"
     ]
    }
   ],
   "source": [
    "print(raw_data[0])"
   ]
  },
  {
   "cell_type": "code",
   "execution_count": 23,
   "metadata": {},
   "outputs": [
    {
     "name": "stdout",
     "output_type": "stream",
     "text": [
      "Dataset: abalone_train\n",
      "\tSex's type is nominal, range is ('M', 'F', 'I')\n",
      "\tLength's type is numeric\n",
      "\tDiameter's type is numeric\n",
      "\tHeight's type is numeric\n",
      "\tWhole_weight's type is numeric\n",
      "\tShucked_weight's type is numeric\n",
      "\tViscera_weight's type is numeric\n",
      "\tShell_weight's type is numeric\n",
      "\tClass_number_of_rings's type is nominal, range is ('1', '2', '3', '4', '5', '6', '7', '8', '9', '10', '11', '12', '13', '14', '15', '16', '17', '18', '19', '20', '21', '22', '23', '24', '25', '26', '27', '28', '29')\n",
      "\n"
     ]
    }
   ],
   "source": [
    "print(raw_data[1])"
   ]
  },
  {
   "cell_type": "code",
   "execution_count": 24,
   "metadata": {},
   "outputs": [
    {
     "data": {
      "text/html": [
       "<div>\n",
       "<style scoped>\n",
       "    .dataframe tbody tr th:only-of-type {\n",
       "        vertical-align: middle;\n",
       "    }\n",
       "\n",
       "    .dataframe tbody tr th {\n",
       "        vertical-align: top;\n",
       "    }\n",
       "\n",
       "    .dataframe thead th {\n",
       "        text-align: right;\n",
       "    }\n",
       "</style>\n",
       "<table border=\"1\" class=\"dataframe\">\n",
       "  <thead>\n",
       "    <tr style=\"text-align: right;\">\n",
       "      <th></th>\n",
       "      <th>Sex</th>\n",
       "      <th>Length</th>\n",
       "      <th>Diameter</th>\n",
       "      <th>Height</th>\n",
       "      <th>Whole_weight</th>\n",
       "      <th>Shucked_weight</th>\n",
       "      <th>Viscera_weight</th>\n",
       "      <th>Shell_weight</th>\n",
       "      <th>Class_number_of_rings</th>\n",
       "    </tr>\n",
       "  </thead>\n",
       "  <tbody>\n",
       "    <tr>\n",
       "      <th>0</th>\n",
       "      <td>b'M'</td>\n",
       "      <td>0.455</td>\n",
       "      <td>0.365</td>\n",
       "      <td>0.095</td>\n",
       "      <td>0.5140</td>\n",
       "      <td>0.2245</td>\n",
       "      <td>0.1010</td>\n",
       "      <td>0.150</td>\n",
       "      <td>b'15'</td>\n",
       "    </tr>\n",
       "    <tr>\n",
       "      <th>1</th>\n",
       "      <td>b'M'</td>\n",
       "      <td>0.350</td>\n",
       "      <td>0.265</td>\n",
       "      <td>0.090</td>\n",
       "      <td>0.2255</td>\n",
       "      <td>0.0995</td>\n",
       "      <td>0.0485</td>\n",
       "      <td>0.070</td>\n",
       "      <td>b'7'</td>\n",
       "    </tr>\n",
       "    <tr>\n",
       "      <th>2</th>\n",
       "      <td>b'F'</td>\n",
       "      <td>0.530</td>\n",
       "      <td>0.420</td>\n",
       "      <td>0.135</td>\n",
       "      <td>0.6770</td>\n",
       "      <td>0.2565</td>\n",
       "      <td>0.1415</td>\n",
       "      <td>0.210</td>\n",
       "      <td>b'9'</td>\n",
       "    </tr>\n",
       "    <tr>\n",
       "      <th>3</th>\n",
       "      <td>b'M'</td>\n",
       "      <td>0.440</td>\n",
       "      <td>0.365</td>\n",
       "      <td>0.125</td>\n",
       "      <td>0.5160</td>\n",
       "      <td>0.2155</td>\n",
       "      <td>0.1140</td>\n",
       "      <td>0.155</td>\n",
       "      <td>b'10'</td>\n",
       "    </tr>\n",
       "    <tr>\n",
       "      <th>4</th>\n",
       "      <td>b'I'</td>\n",
       "      <td>0.330</td>\n",
       "      <td>0.255</td>\n",
       "      <td>0.080</td>\n",
       "      <td>0.2050</td>\n",
       "      <td>0.0895</td>\n",
       "      <td>0.0395</td>\n",
       "      <td>0.055</td>\n",
       "      <td>b'7'</td>\n",
       "    </tr>\n",
       "  </tbody>\n",
       "</table>\n",
       "</div>"
      ],
      "text/plain": [
       "    Sex  Length  Diameter  Height  Whole_weight  Shucked_weight  \\\n",
       "0  b'M'   0.455     0.365   0.095        0.5140          0.2245   \n",
       "1  b'M'   0.350     0.265   0.090        0.2255          0.0995   \n",
       "2  b'F'   0.530     0.420   0.135        0.6770          0.2565   \n",
       "3  b'M'   0.440     0.365   0.125        0.5160          0.2155   \n",
       "4  b'I'   0.330     0.255   0.080        0.2050          0.0895   \n",
       "\n",
       "   Viscera_weight  Shell_weight Class_number_of_rings  \n",
       "0          0.1010         0.150                 b'15'  \n",
       "1          0.0485         0.070                  b'7'  \n",
       "2          0.1415         0.210                  b'9'  \n",
       "3          0.1140         0.155                 b'10'  \n",
       "4          0.0395         0.055                  b'7'  "
      ]
     },
     "execution_count": 24,
     "metadata": {},
     "output_type": "execute_result"
    }
   ],
   "source": [
    "df = pd.DataFrame(raw_data[0])\n",
    "df.head(5)"
   ]
  },
  {
   "cell_type": "markdown",
   "metadata": {},
   "source": [
    "# 2. Data Preparation"
   ]
  },
  {
   "cell_type": "markdown",
   "metadata": {},
   "source": [
    "## Converting Byte Strings To Unicode Strings\n",
    "Read more about string types [here](https://towardsdatascience.com/byte-string-unicode-string-raw-string-a-guide-to-all-strings-in-python-684c4c4960ba#:~:text=To%20store%20the,bytes%20(16-bits).), [here](https://www.geeksforgeeks.org/byte-objects-vs-string-python/), and [here](https://stackoverflow.com/questions/6269765/what-does-the-b-character-do-in-front-of-a-string-literal)"
   ]
  },
  {
   "cell_type": "code",
   "execution_count": 25,
   "metadata": {},
   "outputs": [
    {
     "data": {
      "text/plain": [
       "(b'M', bytes, b'15', bytes)"
      ]
     },
     "execution_count": 25,
     "metadata": {},
     "output_type": "execute_result"
    }
   ],
   "source": [
    "df.Sex[0], type(df.Sex[0]), df.Class_number_of_rings[0], type(df.Class_number_of_rings[0])"
   ]
  },
  {
   "cell_type": "code",
   "execution_count": 26,
   "metadata": {},
   "outputs": [
    {
     "data": {
      "text/plain": [
       "('M', str, '15', str)"
      ]
     },
     "execution_count": 26,
     "metadata": {},
     "output_type": "execute_result"
    }
   ],
   "source": [
    "df.Sex = df.Sex.str.decode('utf-8')\n",
    "df.Class_number_of_rings = df.Class_number_of_rings.str.decode('utf-8')\n",
    "df.Sex[0], type(df.Sex[0]), df.Class_number_of_rings[0], type(df.Class_number_of_rings[0])"
   ]
  },
  {
   "cell_type": "markdown",
   "metadata": {},
   "source": [
    "Since there are no missing values and all continuous values were scaled ([source](https://datahub.io/machine-learning/abalone#:~:text=from%20the%20original%20data%20examples%20with%20missing%20values%20were%20removed%20(the%20majority%20having%20the%20predicted%20value%20missing)%2C%20and%20the%20ranges%20of%20the%20continuous%20values%20have%20been%20scaled%20for%20use%20with%20an%20ann%20(by%20dividing%20by%20200).)), therefore we can directly proceed to the next step"
   ]
  },
  {
   "cell_type": "markdown",
   "metadata": {},
   "source": []
  },
  {
   "cell_type": "markdown",
   "metadata": {},
   "source": [
    "# 3. Data Analysis"
   ]
  },
  {
   "cell_type": "code",
   "execution_count": null,
   "metadata": {},
   "outputs": [],
   "source": []
  }
 ],
 "metadata": {
  "kernelspec": {
   "display_name": "Python 3.10.5 64-bit",
   "language": "python",
   "name": "python3"
  },
  "language_info": {
   "codemirror_mode": {
    "name": "ipython",
    "version": 3
   },
   "file_extension": ".py",
   "mimetype": "text/x-python",
   "name": "python",
   "nbconvert_exporter": "python",
   "pygments_lexer": "ipython3",
   "version": "3.10.5"
  },
  "orig_nbformat": 4,
  "vscode": {
   "interpreter": {
    "hash": "369f2c481f4da34e4445cda3fffd2e751bd1c4d706f27375911949ba6bb62e1c"
   }
  }
 },
 "nbformat": 4,
 "nbformat_minor": 2
}
